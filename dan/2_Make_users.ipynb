{
 "cells": [
  {
   "cell_type": "code",
   "execution_count": 2,
   "metadata": {},
   "outputs": [],
   "source": [
    "import numpy as np\n",
    "import pandas as pd\n",
    "import lightgbm as lgb\n",
    "import os"
   ]
  },
  {
   "cell_type": "code",
   "execution_count": 3,
   "metadata": {},
   "outputs": [
    {
     "name": "stdout",
     "output_type": "stream",
     "text": [
      "loading orders\n",
      "loading orders\n"
     ]
    }
   ],
   "source": [
    "IDIR = os.path.abspath('../data')\n",
    "print('loading orders')\n",
    "newpriors = pd.read_csv(os.path.join(IDIR,'newpriors.csv'), dtype={\n",
    "            'order_id': np.int32,\n",
    "            'product_id': np.uint16,\n",
    "            'add_to_cart_order': np.int16,\n",
    "            'reordered': np.int8,\n",
    "            'user_id' : np.int32,\n",
    "            'eval_set' : 'category',\n",
    "            'order_number': np.int16,\n",
    "            'order_dow': np.int8,\n",
    "            'order_hour_of_day': np.int8,\n",
    "            'days_since_prior_order': np.float32})\n",
    "print('loading orders')\n",
    "orders = pd.read_csv(os.path.join(IDIR,'orders.csv'), dtype={\n",
    "        'order_id': np.int32,\n",
    "        'user_id': np.int32,\n",
    "        'eval_set': 'category',\n",
    "        'order_number': np.int16,\n",
    "        'order_dow': np.int8,\n",
    "        'order_hour_of_day': np.int8,\n",
    "        'days_since_prior_order': np.float32})"
   ]
  },
  {
   "cell_type": "code",
   "execution_count": 15,
   "metadata": {},
   "outputs": [
    {
     "name": "stdout",
     "output_type": "stream",
     "text": [
      "computing user f\n"
     ]
    }
   ],
   "source": [
    "print('computing user f')\n",
    "users = pd.DataFrame()\n",
    "users['average_days_between_orders'] = orders[orders['eval_set']=='prior'].groupby('user_id')['days_since_prior_order'].mean().astype(np.float32)\n",
    "users['user_num_orders'] = orders[orders['eval_set']=='prior'].groupby('user_id').size().astype(np.int16)\n",
    "users['total_num_items'] = newpriors.groupby('user_id').size().astype(np.int16)\n",
    "users['products_list'] = newpriors.groupby('user_id')['product_id'].apply(set)"
   ]
  },
  {
   "cell_type": "code",
   "execution_count": 16,
   "metadata": {},
   "outputs": [
    {
     "name": "stdout",
     "output_type": "stream",
     "text": [
      "user f (206209, 6)\n"
     ]
    }
   ],
   "source": [
    "users['distinct_num_items'] = (users.products_list.map(len)).astype(np.int16)\n",
    "users['average_basket'] = (users.total_num_items / users.user_num_orders).astype(np.float32)\n",
    "print('user f', users.shape)"
   ]
  },
  {
   "cell_type": "code",
   "execution_count": 21,
   "metadata": {},
   "outputs": [],
   "source": [
    "users.to_csv(os.path.join(IDIR,'users.csv'))"
   ]
  },
  {
   "cell_type": "code",
   "execution_count": null,
   "metadata": {
    "collapsed": true
   },
   "outputs": [],
   "source": [
    "average_days_between_orders/user_num_orders/total_num_items/products_list/distinct_num_items/average_basket/"
   ]
  }
 ],
 "metadata": {
  "kernelspec": {
   "display_name": "t1.0p3",
   "language": "python",
   "name": "t1.0p3"
  },
  "language_info": {
   "codemirror_mode": {
    "name": "ipython",
    "version": 3
   },
   "file_extension": ".py",
   "mimetype": "text/x-python",
   "name": "python",
   "nbconvert_exporter": "python",
   "pygments_lexer": "ipython3",
   "version": "3.5.2"
  }
 },
 "nbformat": 4,
 "nbformat_minor": 2
}
